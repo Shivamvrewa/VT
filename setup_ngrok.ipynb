{
  "cells": [
    {
      "cell_type": "markdown",
      "metadata": {
        "id": "8gqt11Y_RYxU"
      },
      "source": [
        "# Setting up the environment. PLEASE WAIT 🙃"
      ]
    },
    {
      "cell_type": "code",
      "execution_count": null,
      "metadata": {
        "id": "RHmGnnTZL6os"
      },
      "outputs": [
        {
          "name": "stdout",
          "output_type": "stream",
          "text": [
            "Requirement already satisfied: gdown in c:\\users\\shiva\\appdata\\local\\programs\\python\\python36\\lib\\site-packages (4.7.3)\n",
            "Requirement already satisfied: beautifulsoup4 in c:\\users\\shiva\\appdata\\local\\programs\\python\\python36\\lib\\site-packages (from gdown) (4.12.3)\n",
            "Requirement already satisfied: six in c:\\users\\shiva\\appdata\\local\\programs\\python\\python36\\lib\\site-packages\\six-1.16.0-py3.6.egg (from gdown) (1.16.0)\n",
            "Requirement already satisfied: filelock in c:\\users\\shiva\\appdata\\local\\programs\\python\\python36\\lib\\site-packages (from gdown) (3.4.1)\n",
            "Requirement already satisfied: requests[socks] in c:\\users\\shiva\\appdata\\local\\programs\\python\\python36\\lib\\site-packages (from gdown) (2.27.1)\n",
            "Requirement already satisfied: tqdm in c:\\users\\shiva\\appdata\\local\\programs\\python\\python36\\lib\\site-packages (from gdown) (4.64.1)\n",
            "Requirement already satisfied: soupsieve>1.2 in c:\\users\\shiva\\appdata\\local\\programs\\python\\python36\\lib\\site-packages (from beautifulsoup4->gdown) (2.3.2.post1)\n",
            "Requirement already satisfied: urllib3<1.27,>=1.21.1 in c:\\users\\shiva\\appdata\\local\\programs\\python\\python36\\lib\\site-packages (from requests[socks]->gdown) (1.26.18)\n",
            "Requirement already satisfied: charset-normalizer~=2.0.0 in c:\\users\\shiva\\appdata\\local\\programs\\python\\python36\\lib\\site-packages (from requests[socks]->gdown) (2.0.12)\n",
            "Requirement already satisfied: certifi>=2017.4.17 in c:\\users\\shiva\\appdata\\local\\programs\\python\\python36\\lib\\site-packages (from requests[socks]->gdown) (2024.2.2)\n",
            "Requirement already satisfied: idna<4,>=2.5 in c:\\users\\shiva\\appdata\\local\\programs\\python\\python36\\lib\\site-packages (from requests[socks]->gdown) (3.6)\n",
            "Requirement already satisfied: PySocks!=1.5.7,>=1.5.6 in c:\\users\\shiva\\appdata\\local\\programs\\python\\python36\\lib\\site-packages (from requests[socks]->gdown) (1.7.1)\n",
            "Requirement already satisfied: colorama in c:\\users\\shiva\\appdata\\local\\programs\\python\\python36\\lib\\site-packages (from tqdm->gdown) (0.4.5)\n",
            "Requirement already satisfied: importlib-resources in c:\\users\\shiva\\appdata\\local\\programs\\python\\python36\\lib\\site-packages (from tqdm->gdown) (5.4.0)\n",
            "Requirement already satisfied: zipp>=3.1.0 in c:\\users\\shiva\\appdata\\local\\programs\\python\\python36\\lib\\site-packages (from importlib-resources->tqdm->gdown) (3.6.0)\n"
          ]
        },
        {
          "name": "stderr",
          "output_type": "stream",
          "text": [
            "ERROR: Could not find a version that satisfies the requirement rembg[gpu] (from versions: none)\n",
            "ERROR: No matching distribution found for rembg[gpu]\n"
          ]
        }
      ],
      "source": [
        "!pip install --upgrade --no-cache-dir gdown\n",
        "!pip install rembg[gpu]"
      ]
    },
    {
      "cell_type": "code",
      "execution_count": null,
      "metadata": {
        "id": "uX3LsFFPKSwo"
      },
      "outputs": [
        {
          "name": "stderr",
          "output_type": "stream",
          "text": [
            "'wget' is not recognized as an internal or external command,\n",
            "operable program or batch file.\n"
          ]
        },
        {
          "name": "stderr",
          "output_type": "stream",
          "text": [
            "tar: Error opening archive: Failed to open 'cmake-3.19.6.tar.gz'\n",
            "The system cannot find the path specified.\n"
          ]
        }
      ],
      "source": [
        "! wget -c \"https://github.com/Kitware/CMake/releases/download/v3.19.6/cmake-3.19.6.tar.gz\"\n",
        "! tar xf cmake-3.19.6.tar.gz\n",
        "! cd cmake-3.19.6 && ./configure && make && sudo make install"
      ]
    },
    {
      "cell_type": "code",
      "execution_count": null,
      "metadata": {
        "id": "51QJAhPOK9cK"
      },
      "outputs": [
        {
          "name": "stderr",
          "output_type": "stream",
          "text": [
            "'sudo' is not recognized as an internal or external command,\n",
            "operable program or batch file.\n",
            "'sudo' is not recognized as an internal or external command,\n",
            "operable program or batch file.\n",
            "'sudo' is not recognized as an internal or external command,\n",
            "operable program or batch file.\n",
            "'sudo' is not recognized as an internal or external command,\n",
            "operable program or batch file.\n",
            "'sudo' is not recognized as an internal or external command,\n",
            "operable program or batch file.\n",
            "'sudo' is not recognized as an internal or external command,\n",
            "operable program or batch file.\n",
            "'sudo' is not recognized as an internal or external command,\n",
            "operable program or batch file.\n",
            "'sudo' is not recognized as an internal or external command,\n",
            "operable program or batch file.\n",
            "'sudo' is not recognized as an internal or external command,\n",
            "operable program or batch file.\n",
            "'sudo' is not recognized as an internal or external command,\n",
            "operable program or batch file.\n",
            "'sudo' is not recognized as an internal or external command,\n",
            "operable program or batch file.\n"
          ]
        }
      ],
      "source": [
        "# Install library\n",
        "! sudo apt-get --assume-yes update\n",
        "! sudo apt-get --assume-yes install build-essential\n",
        "# OpenCV\n",
        "! sudo apt-get --assume-yes install libopencv-dev\n",
        "# General dependencies\n",
        "! sudo apt-get --assume-yes install libatlas-base-dev libprotobuf-dev libleveldb-dev libsnappy-dev libhdf5-serial-dev protobuf-compiler\n",
        "! sudo apt-get --assume-yes install --no-install-recommends libboost-all-dev\n",
        "# Remaining dependencies, 14.04\n",
        "! sudo apt-get --assume-yes install libgflags-dev libgoogle-glog-dev liblmdb-dev\n",
        "# Python3 libs\n",
        "! sudo apt-get --assume-yes install python3-setuptools python3-dev build-essential\n",
        "! sudo apt-get --assume-yes install python3-pip\n",
        "! sudo -H pip3 install --upgrade numpy protobuf opencv-python\n",
        "# OpenCL Generic\n",
        "! sudo apt-get --assume-yes install opencl-headers ocl-icd-opencl-dev\n",
        "! sudo apt-get --assume-yes install libviennacl-dev"
      ]
    },
    {
      "cell_type": "code",
      "execution_count": null,
      "metadata": {
        "colab": {
          "base_uri": "https://localhost:8080/"
        },
        "id": "x7tqqDLHLNDr",
        "outputId": "dc52fffb-2375-4283-da82-f6327a4d73ad"
      },
      "outputs": [
        {
          "name": "stdout",
          "output_type": "stream",
          "text": [
            "v1.7.0\n"
          ]
        }
      ],
      "source": [
        "ver_openpose = \"v1.7.0\"\n",
        "! echo $ver_openpose"
      ]
    },
    {
      "cell_type": "code",
      "execution_count": null,
      "metadata": {
        "id": "b11_hkSgLDl5"
      },
      "outputs": [
        {
          "name": "stderr",
          "output_type": "stream",
          "text": [
            "Cloning into 'openpose'...\n",
            "Note: switching to '8ca5c1d95a42340b323e9273654d1db98bec779c'.\n",
            "\n",
            "You are in 'detached HEAD' state. You can look around, make experimental\n",
            "changes and commit them, and you can discard any commits you make in this\n",
            "state without impacting any branches by switching back to a branch.\n",
            "\n",
            "If you want to create a new branch to retain commits you create, you may\n",
            "do so (now or later) by using -c with the switch command. Example:\n",
            "\n",
            "  git switch -c <new-branch-name>\n",
            "\n",
            "Or undo this operation with:\n",
            "\n",
            "  git switch -\n",
            "\n",
            "Turn off this advice by setting config variable advice.detachedHead to false\n",
            "\n"
          ]
        }
      ],
      "source": [
        "! git clone  --depth 1 -b \"$ver_openpose\" https://github.com/CMU-Perceptual-Computing-Lab/openpose.git"
      ]
    },
    {
      "cell_type": "code",
      "execution_count": null,
      "metadata": {
        "id": "s-XyxfV8Q-DE"
      },
      "outputs": [
        {
          "ename": "SyntaxError",
          "evalue": "invalid syntax (<ipython-input-9-a07f20a87e75>, line 3)",
          "output_type": "error",
          "traceback": [
            "\u001b[1;36m  File \u001b[1;32m\"<ipython-input-9-a07f20a87e75>\"\u001b[1;36m, line \u001b[1;32m3\u001b[0m\n\u001b[1;33m    gdown 1QCSxJZpnWvM00hx49CJ2zky7PWGzpcEh\u001b[0m\n\u001b[1;37m          ^\u001b[0m\n\u001b[1;31mSyntaxError\u001b[0m\u001b[1;31m:\u001b[0m invalid syntax\n"
          ]
        }
      ],
      "source": [
        "# manually downloading openpose models\n",
        "%%bash\n",
        "gdown 1QCSxJZpnWvM00hx49CJ2zky7PWGzpcEh\n",
        "unzip models.zip\n",
        "mv /content/models/face/pose_iter_116000.caffemodel /content/openpose/models/face/pose_iter_116000.caffemodel\n",
        "mv /content/models/hand/pose_iter_102000.caffemodel /content/openpose/models/hand/pose_iter_102000.caffemodel\n",
        "mv /content/models/pose/body_25/pose_iter_584000.caffemodel /content/openpose/models/pose/body_25/pose_iter_584000.caffemodel\n",
        "mv /content/models/pose/coco/pose_iter_440000.caffemodel /content/openpose/models/pose/coco/pose_iter_440000.caffemodel\n",
        "mv /content/models/pose/mpi/pose_iter_160000.caffemodel /content/openpose/models/pose/mpi/pose_iter_160000.caffemodel\n",
        "rm -rf models\n",
        "rm models.zip"
      ]
    },
    {
      "cell_type": "code",
      "execution_count": null,
      "metadata": {
        "id": "Bs-zIObzQLYj"
      },
      "outputs": [],
      "source": [
        "! cd openpose && mkdir build && cd build"
      ]
    },
    {
      "cell_type": "code",
      "execution_count": null,
      "metadata": {
        "id": "7i7oHh2vQqHv"
      },
      "outputs": [
        {
          "name": "stderr",
          "output_type": "stream",
          "text": [
            "'cmake' is not recognized as an internal or external command,\n",
            "operable program or batch file.\n"
          ]
        }
      ],
      "source": [
        "! cd openpose/build && cmake -DUSE_CUDNN=OFF -DBUILD_PYTHON=ON .."
      ]
    },
    {
      "cell_type": "code",
      "execution_count": null,
      "metadata": {
        "id": "iBvxsDM-EYJk"
      },
      "outputs": [],
      "source": [
        "# ! cd openpose/build && cmake .."
      ]
    },
    {
      "cell_type": "code",
      "execution_count": null,
      "metadata": {
        "id": "XEAY8VW0RzD0"
      },
      "outputs": [
        {
          "name": "stderr",
          "output_type": "stream",
          "text": [
            "'make' is not recognized as an internal or external command,\n",
            "operable program or batch file.\n"
          ]
        }
      ],
      "source": [
        "! cd openpose/build && make -j`nproc`\n",
        "! cd openpose && mkdir output"
      ]
    },
    {
      "cell_type": "code",
      "execution_count": null,
      "metadata": {
        "colab": {
          "base_uri": "https://localhost:8080/"
        },
        "id": "60nEQBKefg3f",
        "outputId": "91903854-5dc4-4661-c6d6-cae5ab56bdf2"
      },
      "outputs": [
        {
          "name": "stdout",
          "output_type": "stream",
          "text": [
            "Collecting flask-ngrok\n",
            "  Downloading flask_ngrok-0.0.25-py3-none-any.whl (3.1 kB)\n",
            "Requirement already satisfied: Flask>=0.8 in c:\\users\\shiva\\appdata\\local\\programs\\python\\python36\\lib\\site-packages (from flask-ngrok) (2.0.3)\n",
            "Requirement already satisfied: requests in c:\\users\\shiva\\appdata\\local\\programs\\python\\python36\\lib\\site-packages (from flask-ngrok) (2.27.1)\n",
            "Requirement already satisfied: click>=7.1.2 in c:\\users\\shiva\\appdata\\local\\programs\\python\\python36\\lib\\site-packages (from Flask>=0.8->flask-ngrok) (8.0.4)\n",
            "Requirement already satisfied: Werkzeug>=2.0 in c:\\users\\shiva\\appdata\\local\\programs\\python\\python36\\lib\\site-packages (from Flask>=0.8->flask-ngrok) (2.0.3)\n",
            "Requirement already satisfied: itsdangerous>=2.0 in c:\\users\\shiva\\appdata\\local\\programs\\python\\python36\\lib\\site-packages (from Flask>=0.8->flask-ngrok) (2.0.1)\n",
            "Requirement already satisfied: Jinja2>=3.0 in c:\\users\\shiva\\appdata\\local\\programs\\python\\python36\\lib\\site-packages (from Flask>=0.8->flask-ngrok) (3.0.3)\n",
            "Requirement already satisfied: certifi>=2017.4.17 in c:\\users\\shiva\\appdata\\local\\programs\\python\\python36\\lib\\site-packages (from requests->flask-ngrok) (2024.2.2)\n",
            "Requirement already satisfied: idna<4,>=2.5 in c:\\users\\shiva\\appdata\\local\\programs\\python\\python36\\lib\\site-packages (from requests->flask-ngrok) (3.6)\n",
            "Requirement already satisfied: charset-normalizer~=2.0.0 in c:\\users\\shiva\\appdata\\local\\programs\\python\\python36\\lib\\site-packages (from requests->flask-ngrok) (2.0.12)\n",
            "Requirement already satisfied: urllib3<1.27,>=1.21.1 in c:\\users\\shiva\\appdata\\local\\programs\\python\\python36\\lib\\site-packages (from requests->flask-ngrok) (1.26.18)\n",
            "Requirement already satisfied: importlib-metadata in c:\\users\\shiva\\appdata\\local\\programs\\python\\python36\\lib\\site-packages (from click>=7.1.2->Flask>=0.8->flask-ngrok) (4.2.0)\n",
            "Requirement already satisfied: colorama in c:\\users\\shiva\\appdata\\local\\programs\\python\\python36\\lib\\site-packages (from click>=7.1.2->Flask>=0.8->flask-ngrok) (0.4.5)\n",
            "Requirement already satisfied: MarkupSafe>=2.0 in c:\\users\\shiva\\appdata\\local\\programs\\python\\python36\\lib\\site-packages (from Jinja2>=3.0->Flask>=0.8->flask-ngrok) (2.0.1)\n",
            "Requirement already satisfied: dataclasses in c:\\users\\shiva\\appdata\\local\\programs\\python\\python36\\lib\\site-packages (from Werkzeug>=2.0->Flask>=0.8->flask-ngrok) (0.8)\n",
            "Requirement already satisfied: zipp>=0.5 in c:\\users\\shiva\\appdata\\local\\programs\\python\\python36\\lib\\site-packages (from importlib-metadata->click>=7.1.2->Flask>=0.8->flask-ngrok) (3.6.0)\n",
            "Requirement already satisfied: typing-extensions>=3.6.4 in c:\\users\\shiva\\appdata\\local\\programs\\python\\python36\\lib\\site-packages (from importlib-metadata->click>=7.1.2->Flask>=0.8->flask-ngrok) (4.1.1)\n",
            "Installing collected packages: flask-ngrok\n",
            "Successfully installed flask-ngrok-0.0.25\n",
            "Collecting pyngrok==4.1.1\n",
            "  Downloading pyngrok-4.1.1.tar.gz (18 kB)\n",
            "  Preparing metadata (setup.py): started\n",
            "  Preparing metadata (setup.py): finished with status 'done'\n",
            "Collecting future\n",
            "  Downloading future-1.0.0-py3-none-any.whl (491 kB)\n",
            "Collecting PyYAML\n",
            "  Downloading PyYAML-6.0.1-cp36-cp36m-win_amd64.whl (153 kB)\n",
            "Using legacy 'setup.py install' for pyngrok, since package 'wheel' is not installed.\n",
            "Installing collected packages: PyYAML, future, pyngrok\n",
            "    Running setup.py install for pyngrok: started\n",
            "    Running setup.py install for pyngrok: finished with status 'done'\n",
            "Successfully installed PyYAML-6.0.1 future-1.0.0 pyngrok-4.1.1\n"
          ]
        },
        {
          "name": "stderr",
          "output_type": "stream",
          "text": [
            "The syntax of the command is incorrect.\n"
          ]
        }
      ],
      "source": [
        "!pip install flask-ngrok\n",
        "!pip install pyngrok==4.1.1\n",
        "!ngrok authtoken <your_token>"
      ]
    },
    {
      "cell_type": "code",
      "execution_count": null,
      "metadata": {
        "colab": {
          "base_uri": "https://localhost:8080/"
        },
        "id": "Fo-q2Q-XMFen",
        "outputId": "a762d258-7da5-44fc-fdad-7fef43ddd361"
      },
      "outputs": [
        {
          "name": "stdout",
          "output_type": "stream",
          "text": [
            "[WinError 2] The system cannot find the file specified: '/content/'\n",
            "c:\\Users\\SHIVA\\Downloads\\clothes-virtual-try-on-main\\clothes-virtual-try-on-main\n"
          ]
        },
        {
          "name": "stderr",
          "output_type": "stream",
          "text": [
            "'rm' is not recognized as an internal or external command,\n",
            "operable program or batch file.\n",
            "Cloning into 'clothes-virtual-try-on'...\n"
          ]
        }
      ],
      "source": [
        "import os\n",
        "%cd /content/\n",
        "!rm -rf clothes-virtual-try-on\n",
        "!git clone https://github.com/practice404/clothes-virtual-try-on.git\n",
        "os.makedirs(\"/content/clothes-virtual-try-on/checkpoints\")"
      ]
    },
    {
      "cell_type": "code",
      "execution_count": null,
      "metadata": {
        "colab": {
          "base_uri": "https://localhost:8080/"
        },
        "id": "tnud6ptA9ZwL",
        "outputId": "bc5ee612-eb57-4118-f5e0-6221484c9571"
      },
      "outputs": [
        {
          "name": "stderr",
          "output_type": "stream",
          "text": [
            "c:\\users\\shiva\\appdata\\local\\programs\\python\\python36\\lib\\site-packages\\gdown\\cli.py:142: FutureWarning: Option `--id` was deprecated in version 4.3.1 and will be removed in 5.0. You don't need to pass it anymore to use a file ID.\n",
            "  category=FutureWarning,\n",
            "Downloading...\n",
            "From (original): https://drive.google.com/uc?id=18q4lS7cNt1_X8ewCgya1fq0dSk93jTL6\n",
            "From (redirected): https://drive.google.com/uc?id=18q4lS7cNt1_X8ewCgya1fq0dSk93jTL6&confirm=t&uuid=80bc7f1e-fcff-45f7-8306-d0b686945924\n",
            "To: c:\\content\\clothes-virtual-try-on\\checkpoints\\alias_final.pth\n",
            "\n",
            "  0%|          | 0.00/402M [00:00<?, ?B/s]\n",
            "  0%|          | 524k/402M [00:00<04:48, 1.40MB/s]\n",
            "  0%|          | 1.05M/402M [00:00<02:48, 2.38MB/s]\n",
            "  1%|          | 2.62M/402M [00:00<01:10, 5.70MB/s]\n",
            "  1%|▏         | 5.77M/402M [00:00<00:31, 12.6MB/s]\n",
            "  2%|▏         | 9.96M/402M [00:00<00:19, 20.1MB/s]\n",
            "  4%|▎         | 14.7M/402M [00:00<00:14, 26.6MB/s]\n",
            "  5%|▍         | 18.9M/402M [00:01<00:12, 30.8MB/s]\n",
            "  6%|▌         | 23.1M/402M [00:01<00:11, 33.8MB/s]\n",
            "  7%|▋         | 27.3M/402M [00:01<00:10, 36.0MB/s]\n",
            "  8%|▊         | 31.5M/402M [00:01<00:09, 37.6MB/s]\n",
            "  9%|▉         | 35.7M/402M [00:01<00:09, 38.8MB/s]\n",
            " 10%|▉         | 39.8M/402M [00:01<00:09, 38.1MB/s]\n",
            " 11%|█         | 44.0M/402M [00:01<00:09, 39.2MB/s]\n",
            " 12%|█▏        | 48.2M/402M [00:01<00:09, 38.8MB/s]\n",
            " 13%|█▎        | 52.4M/402M [00:01<00:08, 39.6MB/s]\n",
            " 14%|█▍        | 56.6M/402M [00:01<00:08, 40.1MB/s]\n",
            " 15%|█▌        | 60.8M/402M [00:02<00:08, 40.4MB/s]\n",
            " 16%|█▋        | 65.5M/402M [00:02<00:08, 40.8MB/s]\n",
            " 17%|█▋        | 69.7M/402M [00:02<00:08, 41.0MB/s]\n",
            " 18%|█▊        | 73.9M/402M [00:02<00:08, 38.5MB/s]\n",
            " 19%|█▉        | 78.1M/402M [00:02<00:09, 35.1MB/s]\n",
            " 20%|██        | 81.8M/402M [00:02<00:09, 34.7MB/s]\n",
            " 21%|██▏       | 86.0M/402M [00:02<00:08, 36.5MB/s]\n",
            " 22%|██▏       | 90.2M/402M [00:02<00:08, 37.7MB/s]\n",
            " 23%|██▎       | 94.4M/402M [00:02<00:07, 38.7MB/s]\n",
            " 25%|██▍       | 99.1M/402M [00:03<00:07, 39.8MB/s]\n",
            " 26%|██▌       | 103M/402M [00:03<00:07, 40.1MB/s] \n",
            " 27%|██▋       | 108M/402M [00:03<00:07, 40.6MB/s]\n",
            " 28%|██▊       | 112M/402M [00:03<00:07, 40.9MB/s]\n",
            " 29%|██▉       | 116M/402M [00:03<00:06, 41.0MB/s]\n",
            " 30%|██▉       | 121M/402M [00:03<00:07, 37.1MB/s]\n",
            " 31%|███       | 125M/402M [00:03<00:08, 34.4MB/s]\n",
            " 32%|███▏      | 128M/402M [00:04<00:10, 26.7MB/s]\n",
            " 33%|███▎      | 133M/402M [00:04<00:09, 29.9MB/s]\n",
            " 34%|███▍      | 136M/402M [00:04<00:12, 21.7MB/s]\n",
            " 35%|███▍      | 141M/402M [00:04<00:10, 25.5MB/s]\n",
            " 36%|███▌      | 145M/402M [00:04<00:08, 29.0MB/s]\n",
            " 37%|███▋      | 149M/402M [00:04<00:07, 31.9MB/s]\n",
            " 38%|███▊      | 153M/402M [00:04<00:07, 33.8MB/s]\n",
            " 39%|███▉      | 157M/402M [00:04<00:06, 35.8MB/s]\n",
            " 40%|████      | 161M/402M [00:05<00:07, 32.4MB/s]\n",
            " 41%|████      | 166M/402M [00:05<00:06, 34.7MB/s]\n",
            " 42%|████▏     | 170M/402M [00:05<00:07, 33.2MB/s]\n",
            " 43%|████▎     | 174M/402M [00:05<00:08, 26.6MB/s]\n",
            " 44%|████▍     | 177M/402M [00:05<00:08, 26.9MB/s]\n",
            " 45%|████▍     | 181M/402M [00:05<00:07, 30.2MB/s]\n",
            " 46%|████▌     | 186M/402M [00:05<00:06, 33.4MB/s]\n",
            " 47%|████▋     | 190M/402M [00:05<00:05, 35.5MB/s]\n",
            " 48%|████▊     | 194M/402M [00:06<00:05, 37.1MB/s]\n",
            " 49%|████▉     | 198M/402M [00:06<00:05, 38.3MB/s]\n",
            " 50%|█████     | 202M/402M [00:06<00:06, 32.5MB/s]\n",
            " 51%|█████▏    | 207M/402M [00:06<00:05, 34.8MB/s]\n",
            " 52%|█████▏    | 211M/402M [00:06<00:08, 21.7MB/s]\n",
            " 53%|█████▎    | 215M/402M [00:06<00:07, 24.9MB/s]\n",
            " 54%|█████▍    | 219M/402M [00:07<00:09, 19.3MB/s]\n",
            " 55%|█████▌    | 223M/402M [00:07<00:07, 23.1MB/s]\n",
            " 56%|█████▋    | 227M/402M [00:07<00:09, 19.4MB/s]\n",
            " 57%|█████▋    | 231M/402M [00:07<00:07, 23.1MB/s]\n",
            " 58%|█████▊    | 235M/402M [00:08<00:09, 18.1MB/s]\n",
            " 59%|█████▉    | 239M/402M [00:08<00:08, 20.1MB/s]\n",
            " 60%|██████    | 243M/402M [00:08<00:06, 23.6MB/s]\n",
            " 61%|██████    | 246M/402M [00:08<00:08, 19.2MB/s]\n",
            " 62%|██████▏   | 251M/402M [00:08<00:06, 23.2MB/s]\n",
            " 63%|██████▎   | 254M/402M [00:09<00:09, 16.3MB/s]\n",
            " 64%|██████▍   | 258M/402M [00:09<00:07, 20.3MB/s]\n",
            " 65%|██████▌   | 262M/402M [00:09<00:05, 24.3MB/s]\n",
            " 66%|██████▌   | 266M/402M [00:09<00:04, 27.9MB/s]\n",
            " 67%|██████▋   | 271M/402M [00:09<00:04, 31.1MB/s]\n",
            " 68%|██████▊   | 275M/402M [00:09<00:04, 29.3MB/s]\n",
            " 69%|██████▉   | 278M/402M [00:09<00:05, 23.6MB/s]\n",
            " 70%|███████   | 283M/402M [00:09<00:04, 27.0MB/s]\n",
            " 71%|███████   | 286M/402M [00:10<00:05, 19.4MB/s]\n",
            " 72%|███████▏  | 290M/402M [00:10<00:04, 23.2MB/s]\n",
            " 73%|███████▎  | 294M/402M [00:10<00:05, 19.2MB/s]\n",
            " 74%|███████▍  | 297M/402M [00:10<00:05, 20.2MB/s]\n",
            " 75%|███████▍  | 301M/402M [00:10<00:04, 24.3MB/s]\n",
            " 76%|███████▌  | 306M/402M [00:10<00:03, 28.0MB/s]\n",
            " 77%|███████▋  | 310M/402M [00:11<00:02, 31.2MB/s]\n",
            " 78%|███████▊  | 314M/402M [00:11<00:02, 33.8MB/s]\n",
            " 79%|███████▉  | 318M/402M [00:11<00:02, 35.9MB/s]\n",
            " 80%|████████  | 322M/402M [00:11<00:02, 30.8MB/s]\n",
            " 81%|████████  | 327M/402M [00:11<00:02, 33.4MB/s]\n",
            " 82%|████████▏ | 330M/402M [00:11<00:03, 23.9MB/s]\n",
            " 83%|████████▎ | 334M/402M [00:11<00:02, 27.5MB/s]\n",
            " 84%|████████▍ | 338M/402M [00:12<00:03, 19.5MB/s]\n",
            " 85%|████████▌ | 342M/402M [00:12<00:02, 23.4MB/s]\n",
            " 86%|████████▌ | 346M/402M [00:12<00:02, 24.1MB/s]\n",
            " 87%|████████▋ | 350M/402M [00:12<00:01, 27.9MB/s]\n",
            " 88%|████████▊ | 353M/402M [00:12<00:01, 28.5MB/s]\n",
            " 89%|████████▉ | 358M/402M [00:12<00:01, 32.0MB/s]\n",
            " 90%|████████▉ | 362M/402M [00:12<00:01, 32.6MB/s]\n",
            " 91%|█████████ | 366M/402M [00:13<00:01, 34.0MB/s]\n",
            " 92%|█████████▏| 370M/402M [00:13<00:00, 35.9MB/s]\n",
            " 93%|█████████▎| 375M/402M [00:13<00:00, 37.8MB/s]\n",
            " 94%|█████████▍| 379M/402M [00:13<00:00, 38.1MB/s]\n",
            " 95%|█████████▌| 383M/402M [00:13<00:00, 39.1MB/s]\n",
            " 96%|█████████▋| 387M/402M [00:13<00:00, 31.8MB/s]\n",
            " 97%|█████████▋| 391M/402M [00:13<00:00, 29.0MB/s]\n",
            " 98%|█████████▊| 395M/402M [00:13<00:00, 31.9MB/s]\n",
            " 99%|█████████▉| 399M/402M [00:13<00:00, 31.6MB/s]\n",
            "100%|██████████| 402M/402M [00:14<00:00, 28.6MB/s]\n",
            "c:\\users\\shiva\\appdata\\local\\programs\\python\\python36\\lib\\site-packages\\gdown\\cli.py:142: FutureWarning: Option `--id` was deprecated in version 4.3.1 and will be removed in 5.0. You don't need to pass it anymore to use a file ID.\n",
            "  category=FutureWarning,\n",
            "Downloading...\n",
            "From: https://drive.google.com/uc?id=1uDRPY8gh9sHb3UDonq6ZrINqDOd7pmTz\n",
            "To: c:\\content\\clothes-virtual-try-on\\checkpoints\\gmm_final.pth\n",
            "\n",
            "  0%|          | 0.00/76.2M [00:00<?, ?B/s]\n",
            "  1%|          | 524k/76.2M [00:00<00:45, 1.66MB/s]\n",
            "  3%|▎         | 2.10M/76.2M [00:00<00:13, 5.66MB/s]\n",
            "  6%|▌         | 4.19M/76.2M [00:00<00:07, 9.91MB/s]\n",
            "  9%|▉         | 6.82M/76.2M [00:01<00:11, 5.99MB/s]\n",
            " 15%|█▌        | 11.5M/76.2M [00:01<00:05, 11.8MB/s]\n",
            " 21%|██        | 15.7M/76.2M [00:01<00:03, 16.8MB/s]\n",
            " 25%|██▍       | 18.9M/76.2M [00:01<00:04, 13.2MB/s]\n",
            " 30%|███       | 23.1M/76.2M [00:01<00:03, 17.7MB/s]\n",
            " 34%|███▍      | 26.2M/76.2M [00:02<00:04, 12.1MB/s]\n",
            " 40%|███▉      | 30.4M/76.2M [00:02<00:02, 16.1MB/s]\n",
            " 45%|████▍     | 34.1M/76.2M [00:02<00:03, 11.7MB/s]\n",
            " 50%|█████     | 38.3M/76.2M [00:02<00:02, 15.4MB/s]\n",
            " 56%|█████▌    | 42.5M/76.2M [00:03<00:02, 11.7MB/s]\n",
            " 61%|██████    | 46.7M/76.2M [00:03<00:01, 15.1MB/s]\n",
            " 67%|██████▋   | 50.9M/76.2M [00:03<00:01, 18.9MB/s]\n",
            " 72%|███████▏  | 55.1M/76.2M [00:03<00:00, 22.6MB/s]\n",
            " 78%|███████▊  | 59.2M/76.2M [00:04<00:00, 18.8MB/s]\n",
            " 83%|████████▎ | 63.4M/76.2M [00:04<00:00, 22.5MB/s]\n",
            " 89%|████████▊ | 67.6M/76.2M [00:04<00:00, 26.0MB/s]\n",
            " 95%|█████████▍| 72.4M/76.2M [00:04<00:00, 29.7MB/s]\n",
            "100%|██████████| 76.2M/76.2M [00:04<00:00, 16.7MB/s]\n",
            "c:\\users\\shiva\\appdata\\local\\programs\\python\\python36\\lib\\site-packages\\gdown\\cli.py:142: FutureWarning: Option `--id` was deprecated in version 4.3.1 and will be removed in 5.0. You don't need to pass it anymore to use a file ID.\n",
            "  category=FutureWarning,\n",
            "Downloading...\n",
            "From (original): https://drive.google.com/uc?id=1d7lZNLh51Qt5Mi1lXqyi6Asb2ncLrEdC\n",
            "From (redirected): https://drive.google.com/uc?id=1d7lZNLh51Qt5Mi1lXqyi6Asb2ncLrEdC&confirm=t&uuid=68dc0384-b64f-4f83-aee7-0452707b533b\n",
            "To: c:\\content\\clothes-virtual-try-on\\checkpoints\\seg_final.pth\n",
            "\n",
            "  0%|          | 0.00/138M [00:00<?, ?B/s]\n",
            "  0%|          | 524k/138M [00:00<02:03, 1.12MB/s]\n",
            "  1%|          | 1.57M/138M [00:00<00:46, 2.96MB/s]\n",
            "  3%|▎         | 4.19M/138M [00:00<00:16, 8.30MB/s]\n",
            "  6%|▌         | 7.86M/138M [00:00<00:08, 15.1MB/s]\n",
            "  8%|▊         | 11.0M/138M [00:00<00:06, 19.1MB/s]\n",
            " 11%|█         | 15.2M/138M [00:01<00:04, 25.0MB/s]\n",
            " 14%|█▍        | 19.4M/138M [00:01<00:04, 29.7MB/s]\n",
            " 17%|█▋        | 23.1M/138M [00:01<00:04, 28.3MB/s]\n",
            " 19%|█▉        | 26.7M/138M [00:01<00:03, 29.9MB/s]\n",
            " 22%|██▏       | 30.9M/138M [00:01<00:03, 33.0MB/s]\n",
            " 25%|██▌       | 35.1M/138M [00:01<00:02, 35.5MB/s]\n",
            " 28%|██▊       | 39.3M/138M [00:01<00:02, 37.2MB/s]\n",
            " 32%|███▏      | 43.5M/138M [00:01<00:02, 35.4MB/s]\n",
            " 35%|███▍      | 47.7M/138M [00:01<00:02, 36.3MB/s]\n",
            " 38%|███▊      | 51.9M/138M [00:02<00:02, 32.9MB/s]\n",
            " 41%|████      | 56.1M/138M [00:02<00:02, 35.1MB/s]\n",
            " 44%|████▎     | 60.3M/138M [00:02<00:02, 36.8MB/s]\n",
            " 47%|████▋     | 64.5M/138M [00:02<00:01, 38.1MB/s]\n",
            " 50%|█████     | 69.2M/138M [00:02<00:01, 39.2MB/s]\n",
            " 53%|█████▎    | 73.4M/138M [00:02<00:01, 39.9MB/s]\n",
            " 56%|█████▌    | 77.6M/138M [00:02<00:01, 40.3MB/s]\n",
            " 59%|█████▉    | 81.8M/138M [00:02<00:01, 40.8MB/s]\n",
            " 62%|██████▏   | 86.0M/138M [00:02<00:01, 41.0MB/s]\n",
            " 65%|██████▌   | 90.2M/138M [00:03<00:01, 41.1MB/s]\n",
            " 68%|██████▊   | 94.4M/138M [00:03<00:01, 41.2MB/s]\n",
            " 71%|███████▏  | 98.6M/138M [00:03<00:01, 38.9MB/s]\n",
            " 74%|███████▍  | 103M/138M [00:03<00:00, 39.6MB/s] \n",
            " 77%|███████▋  | 107M/138M [00:03<00:00, 40.0MB/s]\n",
            " 80%|████████  | 111M/138M [00:03<00:00, 40.4MB/s]\n",
            " 84%|████████▎ | 115M/138M [00:03<00:00, 40.8MB/s]\n",
            " 87%|████████▋ | 120M/138M [00:03<00:00, 41.0MB/s]\n",
            " 90%|████████▉ | 124M/138M [00:03<00:00, 41.1MB/s]\n",
            " 93%|█████████▎| 128M/138M [00:03<00:00, 34.9MB/s]\n",
            " 96%|█████████▌| 132M/138M [00:04<00:00, 36.6MB/s]\n",
            " 99%|█████████▉| 137M/138M [00:04<00:00, 38.0MB/s]\n",
            "100%|██████████| 138M/138M [00:04<00:00, 32.6MB/s]\n"
          ]
        }
      ],
      "source": [
        "!gdown --id 18q4lS7cNt1_X8ewCgya1fq0dSk93jTL6 --output /content/clothes-virtual-try-on/checkpoints/alias_final.pth\n",
        "!gdown --id 1uDRPY8gh9sHb3UDonq6ZrINqDOd7pmTz --output /content/clothes-virtual-try-on/checkpoints/gmm_final.pth\n",
        "!gdown --id 1d7lZNLh51Qt5Mi1lXqyi6Asb2ncLrEdC --output /content/clothes-virtual-try-on/checkpoints/seg_final.pth"
      ]
    },
    {
      "cell_type": "code",
      "execution_count": null,
      "metadata": {
        "colab": {
          "base_uri": "https://localhost:8080/"
        },
        "id": "qWPkjShFMK82",
        "outputId": "cf51a4d3-4833-4788-9878-92a791a944b8"
      },
      "outputs": [
        {
          "name": "stderr",
          "output_type": "stream",
          "text": [
            "c:\\users\\shiva\\appdata\\local\\programs\\python\\python36\\lib\\site-packages\\gdown\\cli.py:142: FutureWarning: Option `--id` was deprecated in version 4.3.1 and will be removed in 5.0. You don't need to pass it anymore to use a file ID.\n",
            "  category=FutureWarning,\n",
            "Downloading...\n",
            "From (original): https://drive.google.com/uc?id=1ysEoAJNxou7RNuT9iKOxRhjVRNY5RLjx\n",
            "From (redirected): https://drive.google.com/uc?id=1ysEoAJNxou7RNuT9iKOxRhjVRNY5RLjx&confirm=t&uuid=a23596f8-4158-484e-9066-a1f6ca31d2ea\n",
            "To: c:\\content\\clothes-virtual-try-on\\cloth_segm_u2net_latest.pth\n",
            "\n",
            "  0%|          | 0.00/177M [00:00<?, ?B/s]\n",
            "  0%|          | 524k/177M [00:00<01:35, 1.84MB/s]\n",
            "  1%|          | 1.57M/177M [00:00<00:40, 4.37MB/s]\n",
            "  2%|▏         | 4.19M/177M [00:00<00:15, 11.0MB/s]\n",
            "  3%|▎         | 5.77M/177M [00:00<00:13, 12.2MB/s]\n",
            "  5%|▍         | 8.39M/177M [00:00<00:10, 16.3MB/s]\n",
            "  6%|▌         | 10.5M/177M [00:01<00:18, 9.00MB/s]\n",
            "  8%|▊         | 14.2M/177M [00:01<00:19, 8.54MB/s]\n",
            " 10%|█         | 18.4M/177M [00:01<00:12, 13.0MB/s]\n",
            " 13%|█▎        | 22.5M/177M [00:01<00:08, 17.7MB/s]\n",
            " 15%|█▌        | 26.7M/177M [00:01<00:06, 22.2MB/s]\n",
            " 18%|█▊        | 30.9M/177M [00:02<00:05, 26.3MB/s]\n",
            " 20%|██        | 35.7M/177M [00:02<00:04, 30.2MB/s]\n",
            " 23%|██▎       | 39.8M/177M [00:02<00:04, 33.0MB/s]\n",
            " 25%|██▍       | 44.0M/177M [00:02<00:03, 34.4MB/s]\n",
            " 27%|██▋       | 48.2M/177M [00:02<00:03, 36.4MB/s]\n",
            " 30%|██▉       | 52.4M/177M [00:02<00:03, 37.8MB/s]\n",
            " 32%|███▏      | 56.6M/177M [00:02<00:03, 38.8MB/s]\n",
            " 34%|███▍      | 60.8M/177M [00:02<00:03, 29.5MB/s]\n",
            " 37%|███▋      | 65.0M/177M [00:02<00:03, 32.2MB/s]\n",
            " 39%|███▉      | 68.7M/177M [00:03<00:04, 21.8MB/s]\n",
            " 41%|████▏     | 72.9M/177M [00:03<00:04, 25.5MB/s]\n",
            " 43%|████▎     | 76.5M/177M [00:03<00:04, 20.7MB/s]\n",
            " 46%|████▌     | 80.7M/177M [00:03<00:03, 24.6MB/s]\n",
            " 47%|████▋     | 83.9M/177M [00:03<00:03, 25.0MB/s]\n",
            " 50%|████▉     | 88.1M/177M [00:03<00:03, 28.1MB/s]\n",
            " 52%|█████▏    | 92.3M/177M [00:04<00:02, 31.3MB/s]\n",
            " 54%|█████▍    | 95.9M/177M [00:04<00:02, 29.8MB/s]\n",
            " 57%|█████▋    | 100M/177M [00:04<00:02, 32.7MB/s] \n",
            " 59%|█████▉    | 104M/177M [00:04<00:02, 35.0MB/s]\n",
            " 61%|██████▏   | 109M/177M [00:04<00:01, 36.8MB/s]\n",
            " 64%|██████▍   | 113M/177M [00:04<00:01, 38.1MB/s]\n",
            " 66%|██████▌   | 117M/177M [00:04<00:01, 39.1MB/s]\n",
            " 69%|██████▊   | 121M/177M [00:04<00:01, 39.8MB/s]\n",
            " 71%|███████   | 125M/177M [00:04<00:01, 40.2MB/s]\n",
            " 73%|███████▎  | 129M/177M [00:05<00:01, 40.5MB/s]\n",
            " 76%|███████▌  | 134M/177M [00:05<00:01, 40.9MB/s]\n",
            " 78%|███████▊  | 138M/177M [00:05<00:01, 36.7MB/s]\n",
            " 80%|████████  | 142M/177M [00:05<00:01, 29.4MB/s]\n",
            " 83%|████████▎ | 147M/177M [00:05<00:00, 32.5MB/s]\n",
            " 85%|████████▌ | 151M/177M [00:05<00:00, 34.8MB/s]\n",
            " 88%|████████▊ | 155M/177M [00:05<00:00, 36.5MB/s]\n",
            " 90%|█████████ | 159M/177M [00:05<00:00, 37.4MB/s]\n",
            " 93%|█████████▎| 164M/177M [00:05<00:00, 38.5MB/s]\n",
            " 95%|█████████▍| 168M/177M [00:06<00:00, 39.3MB/s]\n",
            " 97%|█████████▋| 172M/177M [00:06<00:00, 40.1MB/s]\n",
            "100%|█████████▉| 176M/177M [00:06<00:00, 40.5MB/s]\n",
            "100%|██████████| 177M/177M [00:06<00:00, 28.1MB/s]\n"
          ]
        }
      ],
      "source": [
        "!gdown --id 1ysEoAJNxou7RNuT9iKOxRhjVRNY5RLjx --output /content/clothes-virtual-try-on/cloth_segm_u2net_latest.pth --no-cookies"
      ]
    },
    {
      "cell_type": "code",
      "execution_count": null,
      "metadata": {
        "colab": {
          "base_uri": "https://localhost:8080/"
        },
        "id": "I9MhYntvMP84",
        "outputId": "774ecb82-0f56-4b65-a6fd-0baa9416d75c"
      },
      "outputs": [
        {
          "name": "stdout",
          "output_type": "stream",
          "text": [
            "c:\\content\n",
            "Collecting ninja\n",
            "  Downloading ninja-1.11.1.1-py2.py3-none-win_amd64.whl (312 kB)\n",
            "Installing collected packages: ninja\n",
            "Successfully installed ninja-1.11.1.1\n"
          ]
        }
      ],
      "source": [
        "%cd /content/\n",
        "!pip install ninja"
      ]
    },
    {
      "cell_type": "code",
      "execution_count": null,
      "metadata": {
        "colab": {
          "base_uri": "https://localhost:8080/"
        },
        "id": "Rz9LOnvyMWEJ",
        "outputId": "55af9ee0-cdf5-495f-a14f-ac93695a5fbe"
      },
      "outputs": [
        {
          "name": "stdout",
          "output_type": "stream",
          "text": [
            "c:\\content\\Self-Correction-Human-Parsing\n"
          ]
        },
        {
          "name": "stderr",
          "output_type": "stream",
          "text": [
            "Cloning into 'Self-Correction-Human-Parsing'...\n"
          ]
        }
      ],
      "source": [
        "!git clone https://github.com/PeikeLi/Self-Correction-Human-Parsing\n",
        "%cd Self-Correction-Human-Parsing\n",
        "!mkdir checkpoints"
      ]
    },
    {
      "cell_type": "code",
      "execution_count": null,
      "metadata": {
        "colab": {
          "base_uri": "https://localhost:8080/"
        },
        "id": "b2k0DLCsMaG0",
        "outputId": "a28b0d51-14a3-426b-a2cb-d9b209e2b202"
      },
      "outputs": [
        {
          "name": "stderr",
          "output_type": "stream",
          "text": [
            "c:\\users\\shiva\\appdata\\local\\programs\\python\\python36\\lib\\site-packages\\gdown\\cli.py:142: FutureWarning: Option `--id` was deprecated in version 4.3.1 and will be removed in 5.0. You don't need to pass it anymore to use a file ID.\n",
            "  category=FutureWarning,\n",
            "Downloading...\n",
            "From (original): https://drive.google.com/uc?id=1k4dllHpu0bdx38J7H28rVVLpU-kOHmnH\n",
            "From (redirected): https://drive.google.com/uc?id=1k4dllHpu0bdx38J7H28rVVLpU-kOHmnH&confirm=t&uuid=8e02c5c7-d259-4cd6-a1a6-2c277fd2c4ff\n",
            "To: c:\\content\\Self-Correction-Human-Parsing\\exp-schp-201908261155-lip.pth\n",
            "\n",
            "  0%|          | 0.00/267M [00:00<?, ?B/s]\n",
            "  0%|          | 524k/267M [00:00<02:55, 1.52MB/s]\n",
            "  1%|          | 1.57M/267M [00:00<01:09, 3.83MB/s]\n",
            "  1%|▏         | 3.67M/267M [00:00<00:30, 8.56MB/s]\n",
            "  3%|▎         | 7.86M/267M [00:00<00:14, 17.6MB/s]\n",
            "  5%|▍         | 12.1M/267M [00:00<00:10, 24.5MB/s]\n",
            "  6%|▌         | 16.3M/267M [00:00<00:08, 29.4MB/s]\n",
            "  8%|▊         | 20.4M/267M [00:00<00:07, 32.8MB/s]\n",
            "  9%|▉         | 25.2M/267M [00:01<00:06, 35.7MB/s]\n",
            " 11%|█         | 29.4M/267M [00:01<00:06, 37.4MB/s]\n",
            " 13%|█▎        | 33.6M/267M [00:01<00:06, 38.2MB/s]\n",
            " 14%|█▍        | 37.7M/267M [00:01<00:06, 33.6MB/s]\n",
            " 16%|█▌        | 41.9M/267M [00:01<00:06, 35.7MB/s]\n",
            " 17%|█▋        | 46.1M/267M [00:01<00:05, 37.3MB/s]\n",
            " 19%|█▉        | 50.3M/267M [00:01<00:05, 38.4MB/s]\n",
            " 20%|██        | 54.5M/267M [00:01<00:05, 39.3MB/s]\n",
            " 22%|██▏       | 58.7M/267M [00:01<00:05, 39.9MB/s]\n",
            " 24%|██▎       | 62.9M/267M [00:02<00:05, 40.3MB/s]\n",
            " 25%|██▌       | 67.1M/267M [00:02<00:04, 40.6MB/s]\n",
            " 27%|██▋       | 71.8M/267M [00:02<00:04, 40.9MB/s]\n",
            " 29%|██▊       | 76.5M/267M [00:02<00:04, 41.1MB/s]\n",
            " 30%|███       | 80.7M/267M [00:02<00:04, 41.3MB/s]\n",
            " 32%|███▏      | 84.9M/267M [00:02<00:04, 41.2MB/s]\n",
            " 33%|███▎      | 89.1M/267M [00:02<00:04, 41.3MB/s]\n",
            " 35%|███▍      | 93.3M/267M [00:02<00:04, 41.4MB/s]\n",
            " 36%|███▋      | 97.5M/267M [00:02<00:04, 41.4MB/s]\n",
            " 38%|███▊      | 102M/267M [00:03<00:04, 41.3MB/s] \n",
            " 40%|███▉      | 106M/267M [00:03<00:03, 41.5MB/s]\n",
            " 41%|████      | 110M/267M [00:03<00:03, 41.4MB/s]\n",
            " 43%|████▎     | 115M/267M [00:03<00:03, 41.5MB/s]\n",
            " 44%|████▍     | 119M/267M [00:03<00:03, 41.5MB/s]\n",
            " 46%|████▌     | 123M/267M [00:03<00:03, 41.6MB/s]\n",
            " 48%|████▊     | 127M/267M [00:03<00:03, 41.5MB/s]\n",
            " 49%|████▉     | 132M/267M [00:03<00:03, 41.4MB/s]\n",
            " 51%|█████     | 136M/267M [00:03<00:03, 41.6MB/s]\n",
            " 52%|█████▏    | 140M/267M [00:03<00:03, 41.6MB/s]\n",
            " 54%|█████▍    | 144M/267M [00:04<00:02, 41.4MB/s]\n",
            " 55%|█████▌    | 148M/267M [00:04<00:02, 41.5MB/s]\n",
            " 57%|█████▋    | 153M/267M [00:04<00:02, 41.5MB/s]\n",
            " 59%|█████▊    | 157M/267M [00:04<00:02, 40.7MB/s]\n",
            " 60%|██████    | 161M/267M [00:04<00:02, 41.1MB/s]\n",
            " 62%|██████▏   | 165M/267M [00:04<00:02, 41.2MB/s]\n",
            " 63%|██████▎   | 169M/267M [00:04<00:02, 41.2MB/s]\n",
            " 65%|██████▍   | 174M/267M [00:04<00:02, 41.3MB/s]\n",
            " 66%|██████▋   | 178M/267M [00:04<00:02, 41.3MB/s]\n",
            " 68%|██████▊   | 182M/267M [00:04<00:02, 41.3MB/s]\n",
            " 70%|██████▉   | 186M/267M [00:05<00:01, 41.4MB/s]\n",
            " 71%|███████   | 190M/267M [00:05<00:01, 41.3MB/s]\n",
            " 73%|███████▎  | 195M/267M [00:05<00:01, 41.5MB/s]\n",
            " 74%|███████▍  | 199M/267M [00:05<00:01, 41.5MB/s]\n",
            " 76%|███████▌  | 203M/267M [00:05<00:02, 28.0MB/s]\n",
            " 77%|███████▋  | 207M/267M [00:05<00:01, 31.0MB/s]\n",
            " 79%|███████▉  | 211M/267M [00:06<00:02, 19.6MB/s]\n",
            " 80%|████████  | 215M/267M [00:06<00:02, 23.4MB/s]\n",
            " 82%|████████▏ | 219M/267M [00:06<00:02, 22.5MB/s]\n",
            " 83%|████████▎ | 223M/267M [00:06<00:01, 26.0MB/s]\n",
            " 85%|████████▍ | 227M/267M [00:06<00:01, 22.9MB/s]\n",
            " 86%|████████▋ | 231M/267M [00:06<00:01, 26.3MB/s]\n",
            " 88%|████████▊ | 235M/267M [00:06<00:01, 27.8MB/s]\n",
            " 89%|████████▉ | 239M/267M [00:07<00:01, 24.2MB/s]\n",
            " 91%|█████████ | 243M/267M [00:07<00:00, 27.8MB/s]\n",
            " 92%|█████████▏| 246M/267M [00:07<00:01, 18.9MB/s]\n",
            " 94%|█████████▎| 251M/267M [00:07<00:00, 22.9MB/s]\n",
            " 95%|█████████▍| 254M/267M [00:07<00:00, 17.9MB/s]\n",
            " 96%|█████████▋| 258M/267M [00:08<00:00, 22.0MB/s]\n",
            " 98%|█████████▊| 261M/267M [00:08<00:00, 18.7MB/s]\n",
            " 99%|█████████▉| 265M/267M [00:08<00:00, 22.8MB/s]\n",
            "100%|██████████| 267M/267M [00:08<00:00, 31.6MB/s]\n",
            "'mv' is not recognized as an internal or external command,\n",
            "operable program or batch file.\n"
          ]
        }
      ],
      "source": [
        "# downloading LIP dataset model\n",
        "!gdown --id 1k4dllHpu0bdx38J7H28rVVLpU-kOHmnH\n",
        "!mv /content/Self-Correction-Human-Parsing/exp-schp-201908261155-lip.pth /content/Self-Correction-Human-Parsing/checkpoints/final.pth"
      ]
    },
    {
      "cell_type": "code",
      "execution_count": null,
      "metadata": {
        "colab": {
          "base_uri": "https://localhost:8080/"
        },
        "id": "2Y4f3VRyMd9Z",
        "outputId": "c81b2103-5c6b-4af5-aad1-c51dc65b1015"
      },
      "outputs": [
        {
          "name": "stdout",
          "output_type": "stream",
          "text": [
            "c:\\content\n"
          ]
        }
      ],
      "source": [
        "%cd /content/"
      ]
    },
    {
      "cell_type": "code",
      "execution_count": null,
      "metadata": {
        "id": "1k2dVj4vMhwA"
      },
      "outputs": [
        {
          "ename": "CalledProcessError",
          "evalue": "Command 'b'MINICONDA_INSTALLER_SCRIPT=Miniconda3-4.5.4-Linux-x86_64.sh\\nMINICONDA_PREFIX=/usr/local\\nwget https://repo.continuum.io/miniconda/$MINICONDA_INSTALLER_SCRIPT\\nchmod +x $MINICONDA_INSTALLER_SCRIPT\\n./$MINICONDA_INSTALLER_SCRIPT -b -f -p $MINICONDA_PREFIX\\nconda install --channel defaults conda python=3.8 --yes\\nconda update --channel defaults --all --yes\\n'' returned non-zero exit status 1.",
          "output_type": "error",
          "traceback": [
            "\u001b[1;31m---------------------------------------------------------------------------\u001b[0m",
            "\u001b[1;31mCalledProcessError\u001b[0m                        Traceback (most recent call last)",
            "\u001b[1;32m<ipython-input-22-aec5c59d6b8f>\u001b[0m in \u001b[0;36m<module>\u001b[1;34m\u001b[0m\n\u001b[1;32m----> 1\u001b[1;33m \u001b[0mget_ipython\u001b[0m\u001b[1;33m(\u001b[0m\u001b[1;33m)\u001b[0m\u001b[1;33m.\u001b[0m\u001b[0mrun_cell_magic\u001b[0m\u001b[1;33m(\u001b[0m\u001b[1;34m'bash'\u001b[0m\u001b[1;33m,\u001b[0m \u001b[1;34m''\u001b[0m\u001b[1;33m,\u001b[0m \u001b[1;34m'MINICONDA_INSTALLER_SCRIPT=Miniconda3-4.5.4-Linux-x86_64.sh\\nMINICONDA_PREFIX=/usr/local\\nwget https://repo.continuum.io/miniconda/$MINICONDA_INSTALLER_SCRIPT\\nchmod +x $MINICONDA_INSTALLER_SCRIPT\\n./$MINICONDA_INSTALLER_SCRIPT -b -f -p $MINICONDA_PREFIX\\nconda install --channel defaults conda python=3.8 --yes\\nconda update --channel defaults --all --yes\\n'\u001b[0m\u001b[1;33m)\u001b[0m\u001b[1;33m\u001b[0m\u001b[0m\n\u001b[0m",
            "\u001b[1;32m~\\AppData\\Roaming\\Python\\Python36\\site-packages\\IPython\\core\\interactiveshell.py\u001b[0m in \u001b[0;36mrun_cell_magic\u001b[1;34m(self, magic_name, line, cell)\u001b[0m\n\u001b[0;32m   2369\u001b[0m             \u001b[1;32mwith\u001b[0m \u001b[0mself\u001b[0m\u001b[1;33m.\u001b[0m\u001b[0mbuiltin_trap\u001b[0m\u001b[1;33m:\u001b[0m\u001b[1;33m\u001b[0m\u001b[0m\n\u001b[0;32m   2370\u001b[0m                 \u001b[0margs\u001b[0m \u001b[1;33m=\u001b[0m \u001b[1;33m(\u001b[0m\u001b[0mmagic_arg_s\u001b[0m\u001b[1;33m,\u001b[0m \u001b[0mcell\u001b[0m\u001b[1;33m)\u001b[0m\u001b[1;33m\u001b[0m\u001b[0m\n\u001b[1;32m-> 2371\u001b[1;33m                 \u001b[0mresult\u001b[0m \u001b[1;33m=\u001b[0m \u001b[0mfn\u001b[0m\u001b[1;33m(\u001b[0m\u001b[1;33m*\u001b[0m\u001b[0margs\u001b[0m\u001b[1;33m,\u001b[0m \u001b[1;33m**\u001b[0m\u001b[0mkwargs\u001b[0m\u001b[1;33m)\u001b[0m\u001b[1;33m\u001b[0m\u001b[0m\n\u001b[0m\u001b[0;32m   2372\u001b[0m             \u001b[1;32mreturn\u001b[0m \u001b[0mresult\u001b[0m\u001b[1;33m\u001b[0m\u001b[0m\n\u001b[0;32m   2373\u001b[0m \u001b[1;33m\u001b[0m\u001b[0m\n",
            "\u001b[1;32m~\\AppData\\Roaming\\Python\\Python36\\site-packages\\IPython\\core\\magics\\script.py\u001b[0m in \u001b[0;36mnamed_script_magic\u001b[1;34m(line, cell)\u001b[0m\n\u001b[0;32m    140\u001b[0m             \u001b[1;32melse\u001b[0m\u001b[1;33m:\u001b[0m\u001b[1;33m\u001b[0m\u001b[0m\n\u001b[0;32m    141\u001b[0m                 \u001b[0mline\u001b[0m \u001b[1;33m=\u001b[0m \u001b[0mscript\u001b[0m\u001b[1;33m\u001b[0m\u001b[0m\n\u001b[1;32m--> 142\u001b[1;33m             \u001b[1;32mreturn\u001b[0m \u001b[0mself\u001b[0m\u001b[1;33m.\u001b[0m\u001b[0mshebang\u001b[0m\u001b[1;33m(\u001b[0m\u001b[0mline\u001b[0m\u001b[1;33m,\u001b[0m \u001b[0mcell\u001b[0m\u001b[1;33m)\u001b[0m\u001b[1;33m\u001b[0m\u001b[0m\n\u001b[0m\u001b[0;32m    143\u001b[0m \u001b[1;33m\u001b[0m\u001b[0m\n\u001b[0;32m    144\u001b[0m         \u001b[1;31m# write a basic docstring:\u001b[0m\u001b[1;33m\u001b[0m\u001b[1;33m\u001b[0m\u001b[0m\n",
            "\u001b[1;32m~\\AppData\\Roaming\\Python\\Python36\\site-packages\\decorator.py\u001b[0m in \u001b[0;36mfun\u001b[1;34m(*args, **kw)\u001b[0m\n\u001b[0;32m    230\u001b[0m             \u001b[1;32mif\u001b[0m \u001b[1;32mnot\u001b[0m \u001b[0mkwsyntax\u001b[0m\u001b[1;33m:\u001b[0m\u001b[1;33m\u001b[0m\u001b[0m\n\u001b[0;32m    231\u001b[0m                 \u001b[0margs\u001b[0m\u001b[1;33m,\u001b[0m \u001b[0mkw\u001b[0m \u001b[1;33m=\u001b[0m \u001b[0mfix\u001b[0m\u001b[1;33m(\u001b[0m\u001b[0margs\u001b[0m\u001b[1;33m,\u001b[0m \u001b[0mkw\u001b[0m\u001b[1;33m,\u001b[0m \u001b[0msig\u001b[0m\u001b[1;33m)\u001b[0m\u001b[1;33m\u001b[0m\u001b[0m\n\u001b[1;32m--> 232\u001b[1;33m             \u001b[1;32mreturn\u001b[0m \u001b[0mcaller\u001b[0m\u001b[1;33m(\u001b[0m\u001b[0mfunc\u001b[0m\u001b[1;33m,\u001b[0m \u001b[1;33m*\u001b[0m\u001b[1;33m(\u001b[0m\u001b[0mextras\u001b[0m \u001b[1;33m+\u001b[0m \u001b[0margs\u001b[0m\u001b[1;33m)\u001b[0m\u001b[1;33m,\u001b[0m \u001b[1;33m**\u001b[0m\u001b[0mkw\u001b[0m\u001b[1;33m)\u001b[0m\u001b[1;33m\u001b[0m\u001b[0m\n\u001b[0m\u001b[0;32m    233\u001b[0m     \u001b[0mfun\u001b[0m\u001b[1;33m.\u001b[0m\u001b[0m__name__\u001b[0m \u001b[1;33m=\u001b[0m \u001b[0mfunc\u001b[0m\u001b[1;33m.\u001b[0m\u001b[0m__name__\u001b[0m\u001b[1;33m\u001b[0m\u001b[0m\n\u001b[0;32m    234\u001b[0m     \u001b[0mfun\u001b[0m\u001b[1;33m.\u001b[0m\u001b[0m__doc__\u001b[0m \u001b[1;33m=\u001b[0m \u001b[0mfunc\u001b[0m\u001b[1;33m.\u001b[0m\u001b[0m__doc__\u001b[0m\u001b[1;33m\u001b[0m\u001b[0m\n",
            "\u001b[1;32m~\\AppData\\Roaming\\Python\\Python36\\site-packages\\IPython\\core\\magic.py\u001b[0m in \u001b[0;36m<lambda>\u001b[1;34m(f, *a, **k)\u001b[0m\n\u001b[0;32m    185\u001b[0m     \u001b[1;31m# but it's overkill for just that one bit of state.\u001b[0m\u001b[1;33m\u001b[0m\u001b[1;33m\u001b[0m\u001b[0m\n\u001b[0;32m    186\u001b[0m     \u001b[1;32mdef\u001b[0m \u001b[0mmagic_deco\u001b[0m\u001b[1;33m(\u001b[0m\u001b[0marg\u001b[0m\u001b[1;33m)\u001b[0m\u001b[1;33m:\u001b[0m\u001b[1;33m\u001b[0m\u001b[0m\n\u001b[1;32m--> 187\u001b[1;33m         \u001b[0mcall\u001b[0m \u001b[1;33m=\u001b[0m \u001b[1;32mlambda\u001b[0m \u001b[0mf\u001b[0m\u001b[1;33m,\u001b[0m \u001b[1;33m*\u001b[0m\u001b[0ma\u001b[0m\u001b[1;33m,\u001b[0m \u001b[1;33m**\u001b[0m\u001b[0mk\u001b[0m\u001b[1;33m:\u001b[0m \u001b[0mf\u001b[0m\u001b[1;33m(\u001b[0m\u001b[1;33m*\u001b[0m\u001b[0ma\u001b[0m\u001b[1;33m,\u001b[0m \u001b[1;33m**\u001b[0m\u001b[0mk\u001b[0m\u001b[1;33m)\u001b[0m\u001b[1;33m\u001b[0m\u001b[0m\n\u001b[0m\u001b[0;32m    188\u001b[0m \u001b[1;33m\u001b[0m\u001b[0m\n\u001b[0;32m    189\u001b[0m         \u001b[1;32mif\u001b[0m \u001b[0mcallable\u001b[0m\u001b[1;33m(\u001b[0m\u001b[0marg\u001b[0m\u001b[1;33m)\u001b[0m\u001b[1;33m:\u001b[0m\u001b[1;33m\u001b[0m\u001b[0m\n",
            "\u001b[1;32m~\\AppData\\Roaming\\Python\\Python36\\site-packages\\IPython\\core\\magics\\script.py\u001b[0m in \u001b[0;36mshebang\u001b[1;34m(self, line, cell)\u001b[0m\n\u001b[0;32m    243\u001b[0m             \u001b[0msys\u001b[0m\u001b[1;33m.\u001b[0m\u001b[0mstderr\u001b[0m\u001b[1;33m.\u001b[0m\u001b[0mflush\u001b[0m\u001b[1;33m(\u001b[0m\u001b[1;33m)\u001b[0m\u001b[1;33m\u001b[0m\u001b[0m\n\u001b[0;32m    244\u001b[0m         \u001b[1;32mif\u001b[0m \u001b[0margs\u001b[0m\u001b[1;33m.\u001b[0m\u001b[0mraise_error\u001b[0m \u001b[1;32mand\u001b[0m \u001b[0mp\u001b[0m\u001b[1;33m.\u001b[0m\u001b[0mreturncode\u001b[0m\u001b[1;33m!=\u001b[0m\u001b[1;36m0\u001b[0m\u001b[1;33m:\u001b[0m\u001b[1;33m\u001b[0m\u001b[0m\n\u001b[1;32m--> 245\u001b[1;33m             \u001b[1;32mraise\u001b[0m \u001b[0mCalledProcessError\u001b[0m\u001b[1;33m(\u001b[0m\u001b[0mp\u001b[0m\u001b[1;33m.\u001b[0m\u001b[0mreturncode\u001b[0m\u001b[1;33m,\u001b[0m \u001b[0mcell\u001b[0m\u001b[1;33m,\u001b[0m \u001b[0moutput\u001b[0m\u001b[1;33m=\u001b[0m\u001b[0mout\u001b[0m\u001b[1;33m,\u001b[0m \u001b[0mstderr\u001b[0m\u001b[1;33m=\u001b[0m\u001b[0merr\u001b[0m\u001b[1;33m)\u001b[0m\u001b[1;33m\u001b[0m\u001b[0m\n\u001b[0m\u001b[0;32m    246\u001b[0m \u001b[1;33m\u001b[0m\u001b[0m\n\u001b[0;32m    247\u001b[0m     \u001b[1;32mdef\u001b[0m \u001b[0m_run_script\u001b[0m\u001b[1;33m(\u001b[0m\u001b[0mself\u001b[0m\u001b[1;33m,\u001b[0m \u001b[0mp\u001b[0m\u001b[1;33m,\u001b[0m \u001b[0mcell\u001b[0m\u001b[1;33m,\u001b[0m \u001b[0mto_close\u001b[0m\u001b[1;33m)\u001b[0m\u001b[1;33m:\u001b[0m\u001b[1;33m\u001b[0m\u001b[0m\n",
            "\u001b[1;31mCalledProcessError\u001b[0m: Command 'b'MINICONDA_INSTALLER_SCRIPT=Miniconda3-4.5.4-Linux-x86_64.sh\\nMINICONDA_PREFIX=/usr/local\\nwget https://repo.continuum.io/miniconda/$MINICONDA_INSTALLER_SCRIPT\\nchmod +x $MINICONDA_INSTALLER_SCRIPT\\n./$MINICONDA_INSTALLER_SCRIPT -b -f -p $MINICONDA_PREFIX\\nconda install --channel defaults conda python=3.8 --yes\\nconda update --channel defaults --all --yes\\n'' returned non-zero exit status 1."
          ]
        }
      ],
      "source": [
        "%%bash\n",
        "MINICONDA_INSTALLER_SCRIPT=Miniconda3-4.5.4-Linux-x86_64.sh\n",
        "MINICONDA_PREFIX=/usr/local\n",
        "wget https://repo.continuum.io/miniconda/$MINICONDA_INSTALLER_SCRIPT\n",
        "chmod +x $MINICONDA_INSTALLER_SCRIPT\n",
        "./$MINICONDA_INSTALLER_SCRIPT -b -f -p $MINICONDA_PREFIX\n",
        "conda install --channel defaults conda python=3.8 --yes\n",
        "conda update --channel defaults --all --yes"
      ]
    },
    {
      "cell_type": "code",
      "execution_count": null,
      "metadata": {
        "id": "I6entwp3MliV"
      },
      "outputs": [],
      "source": [
        "import sys\n",
        "_ = (sys.path\n",
        "        .append(\"/usr/local/lib/python3.6/site-packages\"))"
      ]
    },
    {
      "cell_type": "code",
      "execution_count": null,
      "metadata": {
        "id": "cseosViyMtYx"
      },
      "outputs": [
        {
          "name": "stderr",
          "output_type": "stream",
          "text": [
            "'conda' is not recognized as an internal or external command,\n",
            "operable program or batch file.\n"
          ]
        }
      ],
      "source": [
        "!conda install --channel conda-forge featuretools --yes"
      ]
    },
    {
      "cell_type": "code",
      "execution_count": null,
      "metadata": {
        "id": "BEnK6NI6M0cz"
      },
      "outputs": [
        {
          "name": "stdout",
          "output_type": "stream",
          "text": [
            "Collecting opencv-python"
          ]
        },
        {
          "name": "stderr",
          "output_type": "stream",
          "text": [
            "  ERROR: Command errored out with exit status 1:\n",
            "   command: 'c:\\users\\shiva\\appdata\\local\\programs\\python\\python36\\python.exe' 'c:\\users\\shiva\\appdata\\local\\programs\\python\\python36\\lib\\site-packages\\pip\\_vendor\\pep517\\in_process\\_in_process.py' build_wheel 'C:\\Users\\SHIVA\\AppData\\Local\\Temp\\tmpikz8geq7'\n",
            "       cwd: C:\\Users\\SHIVA\\AppData\\Local\\Temp\\pip-install-f7zxfmj1\\opencv-python_a88194650e914447b42cfda1e14cf766\n",
            "  Complete output (395 lines):\n",
            "  \n",
            "  \n"
          ]
        },
        {
          "name": "stdout",
          "output_type": "stream",
          "text": [
            "\n",
            "  Downloading opencv-python-4.9.0.80.tar.gz (92.9 MB)\n",
            "  Installing build dependencies: started\n",
            "  Installing build dependencies: finished with status 'done'\n",
            "  Getting requirements to build wheel: started\n",
            "  Getting requirements to build wheel: finished with status 'done'\n",
            "  Preparing metadata (pyproject.toml): started\n",
            "  Preparing metadata (pyproject.toml): finished with status 'done'\n",
            "Collecting torchgeometry\n",
            "  Downloading torchgeometry-0.1.2-py2.py3-none-any.whl (42 kB)\n",
            "Requirement already satisfied: numpy>=1.13.3 in c:\\users\\shiva\\appdata\\local\\programs\\python\\python36\\lib\\site-packages (from opencv-python) (1.19.5)\n",
            "Collecting torch>=1.0.0\n",
            "  Downloading torch-1.10.2-cp36-cp36m-win_amd64.whl (226.6 MB)\n",
            "Requirement already satisfied: dataclasses in c:\\users\\shiva\\appdata\\local\\programs\\python\\python36\\lib\\site-packages (from torch>=1.0.0->torchgeometry) (0.8)\n",
            "Requirement already satisfied: typing-extensions in c:\\users\\shiva\\appdata\\local\\programs\\python\\python36\\lib\\site-packages (from torch>=1.0.0->torchgeometry) (4.1.1)\n",
            "Building wheels for collected packages: opencv-python\n",
            "  Building wheel for opencv-python (pyproject.toml): started\n",
            "  Building wheel for opencv-python (pyproject.toml): finished with status 'error'\n",
            "Failed to build opencv-python\n"
          ]
        },
        {
          "name": "stderr",
          "output_type": "stream",
          "text": [
            "  --------------------------------------------------------------------------------\n",
            "  -- Trying 'Ninja (Visual Studio 17 2022 x64 v143)' generator\n",
            "  --------------------------------\n",
            "  ---------------------------\n",
            "  ----------------------\n",
            "  -----------------\n",
            "  ------------\n",
            "  -------\n",
            "  --\n",
            "  Not searching for unused variables given on the command line.\n",
            "  CMake Deprecation Warning at CMakeLists.txt:1 (cmake_minimum_required):\n",
            "    Compatibility with CMake < 3.5 will be removed from a future version of\n",
            "    CMake.\n",
            "  \n",
            "    Update the VERSION argument <min> value or use a ...<max> suffix to tell\n",
            "    CMake that the project does not need compatibility with older versions.\n",
            "  \n",
            "  \n",
            "  CMake Error at CMakeLists.txt:2 (PROJECT):\n",
            "    Generator\n",
            "  \n",
            "      Ninja\n",
            "  \n",
            "    does not support platform specification, but platform\n",
            "  \n",
            "      x64\n",
            "  \n",
            "    was specified.\n",
            "  \n",
            "  \n",
            "  -- Configuring incomplete, errors occurred!\n",
            "  --\n",
            "  -------\n",
            "  ------------\n",
            "  -----------------\n",
            "  ----------------------\n",
            "  ---------------------------\n",
            "  --------------------------------\n",
            "  -- Trying 'Ninja (Visual Studio 17 2022 x64 v143)' generator - failure\n",
            "  --------------------------------------------------------------------------------\n",
            "  \n",
            "  \n",
            "  \n",
            "  --------------------------------------------------------------------------------\n",
            "  -- Trying 'Visual Studio 17 2022 x64 v143' generator\n",
            "  --------------------------------\n",
            "  ---------------------------\n",
            "  ----------------------\n",
            "  -----------------\n",
            "  ------------\n",
            "  -------\n",
            "  --\n",
            "  Not searching for unused variables given on the command line.\n",
            "  CMake Deprecation Warning at CMakeLists.txt:1 (cmake_minimum_required):\n",
            "    Compatibility with CMake < 3.5 will be removed from a future version of\n",
            "    CMake.\n",
            "  \n",
            "    Update the VERSION argument <min> value or use a ...<max> suffix to tell\n",
            "    CMake that the project does not need compatibility with older versions.\n",
            "  \n",
            "  \n",
            "  CMake Error at CMakeLists.txt:2 (PROJECT):\n",
            "    Generator\n",
            "  \n",
            "      Visual Studio 17 2022\n",
            "  \n",
            "    could not find any instance of Visual Studio.\n",
            "  \n",
            "  \n",
            "  \n",
            "  -- Configuring incomplete, errors occurred!\n",
            "  --\n",
            "  -------\n",
            "  ------------\n",
            "  -----------------\n",
            "  ----------------------\n",
            "  ---------------------------\n",
            "  --------------------------------\n",
            "  -- Trying 'Visual Studio 17 2022 x64 v143' generator - failure\n",
            "  --------------------------------------------------------------------------------\n",
            "  \n",
            "  \n",
            "  \n",
            "  --------------------------------------------------------------------------------\n",
            "  -- Trying 'Ninja (Visual Studio 16 2019 x64 v142)' generator\n",
            "  --------------------------------\n",
            "  ---------------------------\n",
            "  ----------------------\n",
            "  -----------------\n",
            "  ------------\n",
            "  -------\n",
            "  --\n",
            "  Not searching for unused variables given on the command line.\n",
            "  CMake Deprecation Warning at CMakeLists.txt:1 (cmake_minimum_required):\n"
          ]
        }
      ],
      "source": [
        "!pip install opencv-python torchgeometry"
      ]
    },
    {
      "cell_type": "code",
      "execution_count": null,
      "metadata": {
        "id": "HkySNWttHdW2"
      },
      "outputs": [
        {
          "name": "stderr",
          "output_type": "stream",
          "text": [
            "    Compatibility with CMake < 3.5 will be removed from a future version of\n",
            "    CMake.\n",
            "  \n",
            "    Update the VERSION argument <min> value or use a ...<max> suffix to tell\n",
            "    CMake that the project does not need compatibility with older versions.\n",
            "  \n",
            "  \n",
            "  CMake Error at CMakeLists.txt:2 (PROJECT):\n",
            "    Generator\n",
            "  \n",
            "      Ninja\n",
            "  \n",
            "    does not support platform specification, but platform\n",
            "  \n",
            "      x64\n",
            "  \n",
            "    was specified.\n",
            "  \n",
            "  \n",
            "  -- Configuring incomplete, errors occurred!\n",
            "  --\n",
            "  -------\n",
            "  ------------\n",
            "  -----------------\n",
            "  ----------------------\n",
            "  ---------------------------\n",
            "  --------------------------------\n",
            "  -- Trying 'Ninja (Visual Studio 16 2019 x64 v142)' generator - failure\n",
            "  --------------------------------------------------------------------------------\n",
            "  \n",
            "  \n",
            "  \n",
            "  --------------------------------------------------------------------------------\n",
            "  -- Trying 'Visual Studio 16 2019 x64 v142' generator\n",
            "  --------------------------------\n",
            "  ---------------------------\n",
            "  ----------------------\n",
            "  -----------------\n",
            "  ------------\n",
            "  -------\n",
            "  --\n",
            "  Not searching for unused variables given on the command line.\n",
            "  CMake Deprecation Warning at CMakeLists.txt:1 (cmake_minimum_required):\n",
            "    Compatibility with CMake < 3.5 will be removed from a future version of\n",
            "    CMake.\n",
            "  \n",
            "    Update the VERSION argument <min> value or use a ...<max> suffix to tell\n",
            "    CMake that the project does not need compatibility with older versions.\n",
            "  \n",
            "  \n",
            "  CMake Error at CMakeLists.txt:2 (PROJECT):\n",
            "    Generator\n",
            "  \n",
            "      Visual Studio 16 2019\n",
            "  \n",
            "    could not find any instance of Visual Studio.\n",
            "  \n",
            "  \n",
            "  \n",
            "  -- Configuring incomplete, errors occurred!\n",
            "  --\n",
            "  -------\n",
            "  ------------\n",
            "  -----------------\n",
            "  ----------------------\n",
            "  ---------------------------\n",
            "  --------------------------------\n",
            "  -- Trying 'Visual Studio 16 2019 x64 v142' generator - failure\n",
            "  --------------------------------------------------------------------------------\n",
            "  \n",
            "  \n",
            "  \n",
            "  --------------------------------------------------------------------------------\n",
            "  -- Trying 'Ninja (Visual Studio 15 2017 x64 v141)' generator\n",
            "  --------------------------------\n",
            "  ---------------------------\n",
            "  ----------------------\n",
            "  -----------------\n",
            "  ------------\n",
            "  -------\n",
            "  --\n",
            "  Not searching for unused variables given on the command line.\n",
            "  CMake Deprecation Warning at CMakeLists.txt:1 (cmake_minimum_required):\n",
            "    Compatibility with CMake < 3.5 will be removed from a future version of\n",
            "    CMake.\n",
            "  \n",
            "    Update the VERSION argument <min> value or use a ...<max> suffix to tell\n",
            "    CMake that the project does not need compatibility with older versions.\n",
            "  \n",
            "  \n",
            "  CMake Error at CMakeLists.txt:2 (PROJECT):\n",
            "    Generator\n",
            "  \n",
            "      Ninja\n",
            "  \n",
            "    does not support platform specification, but platform\n",
            "  \n",
            "      x64\n",
            "  \n",
            "    was specified.\n",
            "  \n",
            "  \n",
            "  -- Configuring incomplete, errors occurred!\n",
            "  --\n",
            "  -------\n",
            "  ------------\n",
            "  -----------------\n",
            "  ----------------------\n",
            "  ---------------------------\n",
            "  --------------------------------\n",
            "  -- Trying 'Ninja (Visual Studio 15 2017 x64 v141)' generator - failure\n",
            "  --------------------------------------------------------------------------------\n",
            "  \n",
            "  \n",
            "  \n",
            "  --------------------------------------------------------------------------------\n",
            "  -- Trying 'Visual Studio 15 2017 x64 v141' generator\n",
            "  --------------------------------\n",
            "  ---------------------------\n",
            "  ----------------------\n",
            "  -----------------\n",
            "  ------------\n",
            "  -------\n",
            "  --\n",
            "  Not searching for unused variables given on the command line.\n",
            "  CMake Deprecation Warning at CMakeLists.txt:1 (cmake_minimum_required):\n",
            "    Compatibility with CMake < 3.5 will be removed from a future version of\n",
            "    CMake.\n",
            "  \n",
            "    Update the VERSION argument <min> value or use a ...<max> suffix to tell\n",
            "    CMake that the project does not need compatibility with older versions.\n",
            "  \n",
            "  \n",
            "  CMake Error at CMakeLists.txt:2 (PROJECT):\n",
            "    Generator\n",
            "  \n",
            "      Visual Studio 15 2017\n",
            "  \n",
            "    could not find any instance of Visual Studio.\n",
            "  \n",
            "  \n",
            "  \n",
            "  -- Configuring incomplete, errors occurred!\n",
            "  --\n",
            "  -------\n",
            "  ------------\n",
            "  -----------------\n",
            "  ----------------------\n",
            "  ---------------------------\n",
            "  --------------------------------\n",
            "  -- Trying 'Visual Studio 15 2017 x64 v141' generator - failure\n",
            "  --------------------------------------------------------------------------------\n",
            "  \n",
            "  \n",
            "  \n",
            "  --------------------------------------------------------------------------------\n",
            "  -- Trying 'NMake Makefiles (Visual Studio 17 2022 x64 v143)' generator\n",
            "  --------------------------------\n",
            "  ---------------------------\n",
            "  ----------------------\n",
            "  -----------------\n",
            "  ------------\n",
            "  -------\n",
            "  --\n",
            "  Not searching for unused variables given on the command line.\n",
            "  CMake Deprecation Warning at CMakeLists.txt:1 (cmake_minimum_required):\n",
            "    Compatibility with CMake < 3.5 will be removed from a future version of\n",
            "    CMake.\n",
            "  \n",
            "    Update the VERSION argument <min> value or use a ...<max> suffix to tell\n",
            "    CMake that the project does not need compatibility with older versions.\n",
            "  \n",
            "  \n",
            "  CMake Error at CMakeLists.txt:2 (PROJECT):\n",
            "    Generator\n",
            "  \n",
            "      NMake Makefiles\n",
            "  \n",
            "    does not support platform specification, but platform\n",
            "  \n",
            "      x64\n",
            "  \n",
            "    was specified.\n",
            "  \n",
            "  \n",
            "  -- Configuring incomplete, errors occurred!\n",
            "  --\n",
            "  -------\n",
            "  ------------\n",
            "  -----------------\n",
            "  ----------------------\n",
            "  ---------------------------\n",
            "  --------------------------------\n",
            "  -- Trying 'NMake Makefiles (Visual Studio 17 2022 x64 v143)' generator - failure\n",
            "  --------------------------------------------------------------------------------\n",
            "  \n",
            "  \n",
            "  \n",
            "  --------------------------------------------------------------------------------\n",
            "  -- Trying 'NMake Makefiles (Visual Studio 16 2019 x64 v142)' generator\n",
            "  --------------------------------\n",
            "  ---------------------------\n",
            "  ----------------------\n",
            "  -----------------\n",
            "  ------------\n",
            "  -------\n",
            "  --\n",
            "  Not searching for unused variables given on the command line.\n",
            "  CMake Deprecation Warning at CMakeLists.txt:1 (cmake_minimum_required):\n",
            "    Compatibility with CMake < 3.5 will be removed from a future version of\n",
            "    CMake.\n",
            "  \n",
            "    Update the VERSION argument <min> value or use a ...<max> suffix to tell\n",
            "    CMake that the project does not need compatibility with older versions.\n",
            "  \n",
            "  \n",
            "  CMake Error at CMakeLists.txt:2 (PROJECT):\n",
            "    Generator\n",
            "  \n",
            "      NMake Makefiles\n",
            "  \n",
            "    does not support platform specification, but platform\n",
            "  \n",
            "      x64\n",
            "  \n",
            "    was specified.\n",
            "  \n",
            "  \n",
            "  -- Configuring incomplete, errors occurred!\n",
            "  --\n",
            "  -------\n",
            "  ------------\n",
            "  -----------------\n",
            "  ----------------------\n",
            "  ---------------------------\n",
            "  --------------------------------\n",
            "  -- Trying 'NMake Makefiles (Visual Studio 16 2019 x64 v142)' generator - failure\n",
            "  --------------------------------------------------------------------------------\n",
            "  \n",
            "  \n",
            "  \n",
            "  --------------------------------------------------------------------------------\n",
            "  -- Trying 'NMake Makefiles (Visual Studio 15 2017 x64 v141)' generator\n",
            "  --------------------------------\n",
            "  ---------------------------\n",
            "  ----------------------\n",
            "  -----------------\n",
            "  ------------\n",
            "  -------\n",
            "  --\n",
            "  Not searching for unused variables given on the command line.\n",
            "  CMake Deprecation Warning at CMakeLists.txt:1 (cmake_minimum_required):\n",
            "    Compatibility with CMake < 3.5 will be removed from a future version of\n",
            "    CMake.\n",
            "  \n",
            "    Update the VERSION argument <min> value or use a ...<max> suffix to tell\n",
            "    CMake that the project does not need compatibility with older versions.\n",
            "  \n",
            "  \n",
            "  CMake Error at CMakeLists.txt:2 (PROJECT):\n",
            "    Generator\n",
            "  \n",
            "      NMake Makefiles\n",
            "  \n",
            "    does not support platform specification, but platform\n",
            "  \n",
            "      x64\n",
            "  \n",
            "    was specified.\n",
            "  \n",
            "  \n",
            "  -- Configuring incomplete, errors occurred!\n",
            "  --\n",
            "  -------\n",
            "  ------------\n",
            "  -----------------\n",
            "  ----------------------\n",
            "  ---------------------------\n",
            "  --------------------------------\n",
            "  -- Trying 'NMake Makefiles (Visual Studio 15 2017 x64 v141)' generator - failure\n",
            "  --------------------------------------------------------------------------------\n",
            "  \n",
            "  ********************************************************************************\n",
            "  scikit-build could not get a working generator for your system. Aborting build.\n",
            "  \n",
            "  Building windows wheels for Python 3.6 requires Microsoft Visual Studio 2022.\n",
            "  Get it with \"Visual Studio 2017\":\n",
            "  \n",
            "    https://visualstudio.microsoft.com/vs/\n",
            "  \n",
            "  Or with \"Visual Studio 2019\":\n",
            "  \n",
            "      https://visualstudio.microsoft.com/vs/\n",
            "  \n",
            "  Or with \"Visual Studio 2022\":\n",
            "  \n",
            "      https://visualstudio.microsoft.com/vs/\n",
            "  \n",
            "  ********************************************************************************\n",
            "  ----------------------------------------\n",
            "  ERROR: Failed building wheel for opencv-python\n",
            "ERROR: Could not build wheels for opencv-python, which is required to install pyproject.toml-based projects\n"
          ]
        },
        {
          "name": "stdout",
          "output_type": "stream",
          "text": [
            "Collecting torchvision\n",
            "  Downloading torchvision-0.11.3-cp36-cp36m-win_amd64.whl (985 kB)\n",
            "Collecting torch==1.10.2\n",
            "  Using cached torch-1.10.2-cp36-cp36m-win_amd64.whl (226.6 MB)\n",
            "Collecting pillow!=8.3.0,>=5.3.0\n",
            "  Downloading Pillow-8.4.0-cp36-cp36m-win_amd64.whl (3.2 MB)\n",
            "Requirement already satisfied: numpy in c:\\users\\shiva\\appdata\\local\\programs\\python\\python36\\lib\\site-packages (from torchvision) (1.19.5)\n",
            "Requirement already satisfied: typing-extensions in c:\\users\\shiva\\appdata\\local\\programs\\python\\python36\\lib\\site-packages (from torch==1.10.2->torchvision) (4.1.1)\n",
            "Requirement already satisfied: dataclasses in c:\\users\\shiva\\appdata\\local\\programs\\python\\python36\\lib\\site-packages (from torch==1.10.2->torchvision) (0.8)\n",
            "Installing collected packages: torch, pillow, torchvision\n",
            "Successfully installed pillow-8.4.0 torch-1.10.2 torchvision-0.11.3\n"
          ]
        }
      ],
      "source": [
        "!pip install torchvision"
      ]
    },
    {
      "cell_type": "markdown",
      "metadata": {
        "id": "-wvtaXujRhNp"
      },
      "source": [
        "# Welcome to Virtual-Cloth-Assistant\n",
        "\n",
        "> It'll take some extra time in first execution for setting up and downloading of model weights"
      ]
    },
    {
      "cell_type": "code",
      "execution_count": null,
      "metadata": {
        "id": "RwcUm39LM8H0"
      },
      "outputs": [],
      "source": [
        "def make_dir():\n",
        "  os.system(\"cd /content/ && mkdir inputs && cd inputs && mkdir test && cd test && mkdir cloth cloth-mask image image-parse openpose-img openpose-json\")"
      ]
    },
    {
      "cell_type": "code",
      "execution_count": null,
      "metadata": {
        "id": "9jGRSFuEM9-q"
      },
      "outputs": [],
      "source": [
        "from flask import Flask, request, send_file, jsonify\n",
        "from flask_ngrok import run_with_ngrok\n",
        "from PIL import Image\n",
        "import base64\n",
        "import io\n",
        "\n",
        "app = Flask(__name__)\n",
        "run_with_ngrok(app)\n",
        "\n",
        "@app.route(\"/\")\n",
        "def home():\n",
        "  return jsonify(\"hello world\");\n",
        "\n",
        "@app.route(\"/api/transform\", methods=['POST'])\n",
        "def begin():\n",
        "  make_dir()\n",
        "  print(\"data recieved\")\n",
        "  cloth = request.files['cloth']\n",
        "  model = request.files['model']\n",
        "\n",
        "  cloth = Image.open(cloth.stream)\n",
        "  model = Image.open(model.stream)\n",
        "\n",
        "  cloth.save(\"/content/inputs/test/cloth/cloth.jpg\")\n",
        "  model.save(\"/content/inputs/test/image/model.jpg\")\n",
        "\n",
        "  # running script to compute the predictions\n",
        "  os.system(\"python /content/clothes-virtual-try-on/run.py\")\n",
        "\n",
        "  # loading output\n",
        "  op = os.listdir(\"/content/output\")[0]\n",
        "  op = Image.open(f\"/content/output/{op}\")\n",
        "  buffer = io.BytesIO()\n",
        "  op.save(buffer, 'png')\n",
        "  buffer.seek(0)\n",
        "  os.system(\"rm -rf /content/output/\")\n",
        "  return send_file(buffer, mimetype='image/gif')"
      ]
    },
    {
      "cell_type": "code",
      "execution_count": 29,
      "metadata": {
        "colab": {
          "base_uri": "https://localhost:8080/"
        },
        "id": "Pl52gbcqZ3GL",
        "outputId": "72cbd1c5-afa8-4411-9b3e-75b192b65a07"
      },
      "outputs": [
        {
          "name": "stdout",
          "output_type": "stream",
          "text": [
            " * Serving Flask app '__main__' (lazy loading)\n",
            " * Environment: production\n",
            "\u001b[31m   WARNING: This is a development server. Do not use it in a production deployment.\u001b[0m\n",
            "\u001b[2m   Use a production WSGI server instead.\u001b[0m\n",
            " * Debug mode: off\n"
          ]
        },
        {
          "name": "stderr",
          "output_type": "stream",
          "text": [
            " * Running on http://127.0.0.1:5000/ (Press CTRL+C to quit)\n",
            "Exception in thread Thread-92:\n",
            "Traceback (most recent call last):\n",
            "  File \"c:\\Users\\SHIVA\\AppData\\Local\\Programs\\Python\\Python36\\lib\\threading.py\", line 916, in _bootstrap_inner\n",
            "    self.run()\n",
            "  File \"c:\\Users\\SHIVA\\AppData\\Local\\Programs\\Python\\Python36\\lib\\threading.py\", line 1182, in run\n",
            "    self.function(*self.args, **self.kwargs)\n",
            "  File \"c:\\Users\\SHIVA\\AppData\\Local\\Programs\\Python\\Python36\\lib\\site-packages\\flask_ngrok.py\", line 70, in start_ngrok\n",
            "    ngrok_address = _run_ngrok()\n",
            "  File \"c:\\Users\\SHIVA\\AppData\\Local\\Programs\\Python\\Python36\\lib\\site-packages\\flask_ngrok.py\", line 38, in _run_ngrok\n",
            "    tunnel_url = j['tunnels'][0]['public_url']  # Do the parsing of the get\n",
            "IndexError: list index out of range\n",
            "\n"
          ]
        }
      ],
      "source": [
        "if __name__ == '__main__':\n",
        "    app.run()"
      ]
    }
  ],
  "metadata": {
    "accelerator": "GPU",
    "colab": {
      "collapsed_sections": [
        "8gqt11Y_RYxU"
      ],
      "provenance": []
    },
    "gpuClass": "standard",
    "kernelspec": {
      "display_name": "Python 3",
      "name": "python3"
    },
    "language_info": {
      "codemirror_mode": {
        "name": "ipython",
        "version": 3
      },
      "file_extension": ".py",
      "mimetype": "text/x-python",
      "name": "python",
      "nbconvert_exporter": "python",
      "pygments_lexer": "ipython3",
      "version": "3.6.6"
    }
  },
  "nbformat": 4,
  "nbformat_minor": 0
}
